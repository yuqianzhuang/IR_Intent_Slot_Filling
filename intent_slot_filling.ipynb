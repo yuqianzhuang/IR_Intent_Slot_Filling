{
 "cells": [
  {
   "cell_type": "code",
   "execution_count": null,
   "metadata": {
    "id": "nijfnhhEcPh4"
   },
   "outputs": [],
   "source": [
    "from sklearn.linear_model import LogisticRegression\n",
    "from sklearn.feature_extraction.text import CountVectorizer\n",
    "from sklearn.metrics import accuracy_score\n",
    "from collections import defaultdict\n",
    "import re\n",
    "import numpy as np\n",
    "import torch\n",
    "import torch.nn as nn\n",
    "import torch.nn.functional as F\n",
    "import torch.optim as optim\n",
    "from transformers import DistilBertTokenizer, DistilBertForQuestionAnswering\n",
    "from torch.utils.data import Dataset, DataLoader\n",
    "import qa_sys\n",
    "import rules\n",
    "#!pip install transformers"
   ]
  },
  {
   "cell_type": "markdown",
   "metadata": {},
   "source": [
    "### Load data\n",
    "*Load data and split them into train, dev and test set.*"
   ]
  },
  {
   "cell_type": "code",
   "execution_count": null,
   "metadata": {
    "id": "hdFf8WqxYhpA"
   },
   "outputs": [],
   "source": [
    "PATH = \"./data/\""
   ]
  },
  {
   "cell_type": "code",
   "execution_count": null,
   "metadata": {
    "id": "VO5R-16FY9oK"
   },
   "outputs": [],
   "source": [
    "def load_data(path):\n",
    "    res = []\n",
    "    with open(path) as f:\n",
    "        for line in f.readlines():\n",
    "            res.append(line.strip('\\n'))\n",
    "    return res"
   ]
  },
  {
   "cell_type": "code",
   "execution_count": null,
   "metadata": {
    "id": "VyXz9joEZuY4"
   },
   "outputs": [],
   "source": [
    "train_utt = load_data(PATH + 'WOZ_train_utt.txt')\n",
    "train_ans = load_data(PATH + 'WOZ_train_ans.txt')\n",
    "dev_utt = load_data(PATH + 'WOZ_dev_utt.txt')\n",
    "dev_ans = load_data(PATH + 'WOZ_dev_ans.txt')\n",
    "test_utt = load_data(PATH + 'WOZ_test_utt.txt')\n",
    "test_ans = load_data(PATH + 'WOZ_test_ans.txt')"
   ]
  },
  {
   "cell_type": "markdown",
   "metadata": {},
   "source": [
    "### Intent prediction\n",
    "*Predict intents using LogisticRegression classifier and test it on the dev set.*"
   ]
  },
  {
   "cell_type": "code",
   "execution_count": null,
   "metadata": {
    "id": "nKQzkxbsa748"
   },
   "outputs": [],
   "source": [
    "# create intent dataset for train, dev and test set\n",
    "train_intent = [item.split('|')[0] for item in train_ans]\n",
    "dev_intent = [item.split('|')[0] for item in dev_ans]\n",
    "test_intent = [item.split('|')[0] for item in test_ans]"
   ]
  },
  {
   "cell_type": "code",
   "execution_count": null,
   "metadata": {
    "id": "Pzc99z_AePaI"
   },
   "outputs": [],
   "source": [
    "# vectorization\n",
    "vectorizer = CountVectorizer(stop_words = 'english')\n",
    "x_train = vectorizer.fit_transform(train_utt)\n",
    "x_dev = vectorizer.transform(dev_utt)"
   ]
  },
  {
   "cell_type": "code",
   "execution_count": null,
   "metadata": {
    "id": "fIzSPwMGc1PT"
   },
   "outputs": [],
   "source": [
    "# build classifier\n",
    "clf = LogisticRegression()\n",
    "clf.fit(x_train, train_intent)\n",
    "dev_pred = clf.predict(x_dev)"
   ]
  },
  {
   "cell_type": "code",
   "execution_count": null,
   "metadata": {
    "colab": {
     "base_uri": "https://localhost:8080/"
    },
    "executionInfo": {
     "elapsed": 329,
     "status": "ok",
     "timestamp": 1626238226511,
     "user": {
      "displayName": "Yuqing Echo Zhang",
      "photoUrl": "https://lh3.googleusercontent.com/a-/AOh14GgWsO25qvqbt2rJ8bXoeWOOnvzM0Hs0rvFSlvKctg=s64",
      "userId": "01409706311214610502"
     },
     "user_tz": 420
    },
    "id": "dunHLXI4d0XM",
    "outputId": "324cc48e-43f6-4247-c3f1-c04ba97248bb"
   },
   "outputs": [
    {
     "data": {
      "text/plain": [
       "0.9951573849878934"
      ]
     },
     "execution_count": 9,
     "metadata": {
      "tags": []
     },
     "output_type": "execute_result"
    }
   ],
   "source": [
    "# check accuracy score on dev set\n",
    "accuracy_score(dev_intent, dev_pred)"
   ]
  },
  {
   "cell_type": "markdown",
   "metadata": {},
   "source": [
    "### Prepare data\n",
    "*Generate and prepare QA datasets for train, dev and test set*"
   ]
  },
  {
   "cell_type": "code",
   "execution_count": null,
   "metadata": {
    "id": "Ay01eYXYRDGZ"
   },
   "outputs": [],
   "source": [
    "# train\n",
    "train_food_ans, train_name_ans, train_food_Q, train_name_Q = qa_sys.generate_QA(train_utt, train_ans)\n",
    "train_food_dataset = qa_sys.prepare_QA_dataset(train_food_Q, train_utt, train_food_ans, split = 'train')\n",
    "train_food_dataloader = DataLoader(train_food_dataset, batch_size=batch_size, shuffle=False)\n",
    "\n",
    "train_name_dataset = qa_sys.prepare_QA_dataset(train_name_Q, train_utt, train_name_ans, split = 'train')\n",
    "train_name_dataloader = DataLoader(train_name_dataset, batch_size=batch_size, shuffle=False)"
   ]
  },
  {
   "cell_type": "code",
   "execution_count": null,
   "metadata": {
    "id": "KlLxxisvR1XA"
   },
   "outputs": [],
   "source": [
    "# dev\n",
    "dev_food_ans, dev_name_ans, dev_food_Q, dev_name_Q = qa_sys.generate_QA(dev_utt, dev_ans)\n",
    "dev_food_dataset = qa_sys.prepare_QA_dataset(dev_food_Q, dev_utt, dev_food_ans, split = 'dev')\n",
    "dev_food_dataloader = DataLoader(dev_food_dataset, batch_size=batch_size, shuffle=False)\n",
    "dev_name_dataset = qa_sys.prepare_QA_dataset(dev_name_Q, dev_utt, dev_name_ans, split = 'dev')\n",
    "dev_name_dataloader = DataLoader(dev_name_dataset, batch_size=batch_size, shuffle=False)"
   ]
  },
  {
   "cell_type": "code",
   "execution_count": null,
   "metadata": {
    "id": "jx1k1rBFNDsq"
   },
   "outputs": [],
   "source": [
    "# test\n",
    "test_food_ans, test_name_ans, test_food_Q, test_name_Q = qa_sys.generate_QA(test_utt, test_ans)\n",
    "test_food_dataset = qa_sys.prepare_QA_dataset(test_food_Q, test_utt, test_food_ans, split = 'test')\n",
    "test_food_dataloader = DataLoader(test_food_dataset, batch_size=batch_size, shuffle=False)\n",
    "\n",
    "test_name_dataset = qa_sys.prepare_QA_dataset(test_name_Q, test_utt, test_name_ans, split = 'test')\n",
    "test_name_dataloader = DataLoader(test_name_dataset, batch_size=batch_size, shuffle=False)"
   ]
  },
  {
   "cell_type": "markdown",
   "metadata": {},
   "source": [
    "### Train model\n",
    "*Train two pretrained DistilBertForQuestionAnswering models used for predicting \"food\" and \"name\" slots respectively.*"
   ]
  },
  {
   "cell_type": "code",
   "execution_count": null,
   "metadata": {},
   "outputs": [],
   "source": [
    "# initialize tokenizer and models for food and name slots\n",
    "tokenizer = DistilBertTokenizer.from_pretrained('distilbert-base-uncased')\n",
    "\n",
    "MODEL_food = DistilBertForQuestionAnswering.from_pretrained('distilbert-base-uncased')\n",
    "MODEL_name = DistilBertForQuestionAnswering.from_pretrained('distilbert-base-uncased')"
   ]
  },
  {
   "cell_type": "code",
   "execution_count": null,
   "metadata": {
    "id": "Ej95jUoWPjCz"
   },
   "outputs": [],
   "source": [
    "EPOCHS = 1\n",
    "batch_size = 8\n",
    "device = torch.device(\"cuda:0\" if torch.cuda.is_available() else \"cpu\")"
   ]
  },
  {
   "cell_type": "code",
   "execution_count": null,
   "metadata": {
    "colab": {
     "base_uri": "https://localhost:8080/",
     "height": 305,
     "referenced_widgets": [
      "2c093b96e358428e8929c8fa5a71f8bc",
      "a0a107f9d4a540a394c706167bc9eee0",
      "357dce4cf9eb41be9dd3c774f778b655",
      "bd723c11dadc4754bc3f7668136cf980",
      "5a9309db100344198d57a90e335fbc0f",
      "fe6baf720191438da17891486e3d15fa",
      "8059ddf432254b67a89d903d459006d3",
      "dcfda3178fc94ad1a56d67851126b0e3",
      "461b8d10f0dc467ba80dd41c6d7ebb2e",
      "8f1f305e6e914df3a5165d8b9a9ebe3c",
      "9e3ac1709bd3469baf75368bcfc901fa",
      "0e11c6b7641c4bc384cae99f8bb99019",
      "600c5c5c76c244efb526b7010bbae1b1",
      "4ad5a80d33964f24b20cd329cb574275",
      "c147daeab8f343bd86eab4c0df44bae4",
      "634c7d15955b44769e3bbfb2180a5059"
     ]
    },
    "executionInfo": {
     "elapsed": 7356,
     "status": "ok",
     "timestamp": 1626238506095,
     "user": {
      "displayName": "Yuqing Echo Zhang",
      "photoUrl": "https://lh3.googleusercontent.com/a-/AOh14GgWsO25qvqbt2rJ8bXoeWOOnvzM0Hs0rvFSlvKctg=s64",
      "userId": "01409706311214610502"
     },
     "user_tz": 420
    },
    "id": "Pw9sCQJESPaJ",
    "outputId": "22512717-90f9-44c0-c302-a92711ff88c6"
   },
   "outputs": [
    {
     "data": {
      "application/vnd.jupyter.widget-view+json": {
       "model_id": "2c093b96e358428e8929c8fa5a71f8bc",
       "version_major": 2,
       "version_minor": 0
      },
      "text/plain": [
       "HBox(children=(FloatProgress(value=0.0, description='Downloading', max=442.0, style=ProgressStyle(description_…"
      ]
     },
     "metadata": {
      "tags": []
     },
     "output_type": "display_data"
    },
    {
     "name": "stdout",
     "output_type": "stream",
     "text": [
      "\n"
     ]
    },
    {
     "data": {
      "application/vnd.jupyter.widget-view+json": {
       "model_id": "461b8d10f0dc467ba80dd41c6d7ebb2e",
       "version_major": 2,
       "version_minor": 0
      },
      "text/plain": [
       "HBox(children=(FloatProgress(value=0.0, description='Downloading', max=267967963.0, style=ProgressStyle(descri…"
      ]
     },
     "metadata": {
      "tags": []
     },
     "output_type": "display_data"
    },
    {
     "name": "stdout",
     "output_type": "stream",
     "text": [
      "\n"
     ]
    },
    {
     "name": "stderr",
     "output_type": "stream",
     "text": [
      "Some weights of the model checkpoint at distilbert-base-uncased were not used when initializing DistilBertForQuestionAnswering: ['vocab_layer_norm.bias', 'vocab_projector.weight', 'vocab_transform.bias', 'vocab_projector.bias', 'vocab_layer_norm.weight', 'vocab_transform.weight']\n",
      "- This IS expected if you are initializing DistilBertForQuestionAnswering from the checkpoint of a model trained on another task or with another architecture (e.g. initializing a BertForSequenceClassification model from a BertForPreTraining model).\n",
      "- This IS NOT expected if you are initializing DistilBertForQuestionAnswering from the checkpoint of a model that you expect to be exactly identical (initializing a BertForSequenceClassification model from a BertForSequenceClassification model).\n",
      "Some weights of DistilBertForQuestionAnswering were not initialized from the model checkpoint at distilbert-base-uncased and are newly initialized: ['qa_outputs.bias', 'qa_outputs.weight']\n",
      "You should probably TRAIN this model on a down-stream task to be able to use it for predictions and inference.\n",
      "Some weights of the model checkpoint at distilbert-base-uncased were not used when initializing DistilBertForQuestionAnswering: ['vocab_layer_norm.bias', 'vocab_projector.weight', 'vocab_transform.bias', 'vocab_projector.bias', 'vocab_layer_norm.weight', 'vocab_transform.weight']\n",
      "- This IS expected if you are initializing DistilBertForQuestionAnswering from the checkpoint of a model trained on another task or with another architecture (e.g. initializing a BertForSequenceClassification model from a BertForPreTraining model).\n",
      "- This IS NOT expected if you are initializing DistilBertForQuestionAnswering from the checkpoint of a model that you expect to be exactly identical (initializing a BertForSequenceClassification model from a BertForSequenceClassification model).\n",
      "Some weights of DistilBertForQuestionAnswering were not initialized from the model checkpoint at distilbert-base-uncased and are newly initialized: ['qa_outputs.bias', 'qa_outputs.weight']\n",
      "You should probably TRAIN this model on a down-stream task to be able to use it for predictions and inference.\n"
     ]
    }
   ],
   "source": [
    "def train_model(model, epochs, dataloader, dataset):\n",
    "    loss_function = nn.CrossEntropyLoss()\n",
    "    optimizer = torch.optim.Adam(model.parameters(), lr=0.00003)\n",
    "\n",
    "    EPOCHS = 1\n",
    "    model.to(device)\n",
    "    for epoch in range(epochs):\n",
    "        epoch_loss = 0\n",
    "        batch_counter = 0\n",
    "        for train_text_batch, train_span_batch, masks in dataloader:       \n",
    "            model.zero_grad()\n",
    "            train_text_batch, train_span_batch, masks = train_text_batch.to(device), train_span_batch.to(device), masks.to(device)\n",
    "            output = model(train_text_batch,attention_mask=masks)\n",
    "            loss = loss_function(output.start_logits, train_span_batch[:,0])\n",
    "            loss += loss_function(output.end_logits, train_span_batch[:,1])\n",
    "\n",
    "            loss.backward()\n",
    "            optimizer.step()\n",
    "            batch_counter += 1\n",
    "            if batch_counter % 10 == 0:\n",
    "                print(\"Processed \", batch_counter*batch_size, \"QA pairs of \", len(dataset))\n",
    "                print(\"Last loss:\", loss.item())\n",
    "            epoch_loss += loss.item()\n",
    "        print('After epoch:', epoch, 'Loss is:', epoch_loss)"
   ]
  },
  {
   "cell_type": "code",
   "execution_count": null,
   "metadata": {
    "colab": {
     "base_uri": "https://localhost:8080/"
    },
    "executionInfo": {
     "elapsed": 38652,
     "status": "ok",
     "timestamp": 1626238547792,
     "user": {
      "displayName": "Yuqing Echo Zhang",
      "photoUrl": "https://lh3.googleusercontent.com/a-/AOh14GgWsO25qvqbt2rJ8bXoeWOOnvzM0Hs0rvFSlvKctg=s64",
      "userId": "01409706311214610502"
     },
     "user_tz": 420
    },
    "id": "JpoSH_70UhYH",
    "outputId": "5d7895b9-c8ce-48a0-9c56-b6facd0a1235"
   },
   "outputs": [
    {
     "name": "stdout",
     "output_type": "stream",
     "text": [
      "Processed  80 QA pairs of  3760\n",
      "Last loss: 4.312615394592285\n",
      "Processed  160 QA pairs of  3760\n",
      "Last loss: 1.0133447647094727\n",
      "Processed  240 QA pairs of  3760\n",
      "Last loss: 0.6027958393096924\n",
      "Processed  320 QA pairs of  3760\n",
      "Last loss: 0.44490280747413635\n",
      "Processed  400 QA pairs of  3760\n",
      "Last loss: 0.5862692594528198\n",
      "Processed  480 QA pairs of  3760\n",
      "Last loss: 0.2224215865135193\n",
      "Processed  560 QA pairs of  3760\n",
      "Last loss: 0.6620270013809204\n",
      "Processed  640 QA pairs of  3760\n",
      "Last loss: 0.020175576210021973\n",
      "Processed  720 QA pairs of  3760\n",
      "Last loss: 0.14330537617206573\n",
      "Processed  800 QA pairs of  3760\n",
      "Last loss: 0.012889356352388859\n",
      "Processed  880 QA pairs of  3760\n",
      "Last loss: 0.0809469074010849\n",
      "Processed  960 QA pairs of  3760\n",
      "Last loss: 0.061416760087013245\n",
      "Processed  1040 QA pairs of  3760\n",
      "Last loss: 0.20455601811408997\n",
      "Processed  1120 QA pairs of  3760\n",
      "Last loss: 0.009376998990774155\n",
      "Processed  1200 QA pairs of  3760\n",
      "Last loss: 0.0372556671500206\n",
      "Processed  1280 QA pairs of  3760\n",
      "Last loss: 0.023346830159425735\n",
      "Processed  1360 QA pairs of  3760\n",
      "Last loss: 0.30281758308410645\n",
      "Processed  1440 QA pairs of  3760\n",
      "Last loss: 0.07746066153049469\n",
      "Processed  1520 QA pairs of  3760\n",
      "Last loss: 0.005132329184561968\n",
      "Processed  1600 QA pairs of  3760\n",
      "Last loss: 0.007551630027592182\n",
      "Processed  1680 QA pairs of  3760\n",
      "Last loss: 0.13084249198436737\n",
      "Processed  1760 QA pairs of  3760\n",
      "Last loss: 0.43576693534851074\n",
      "Processed  1840 QA pairs of  3760\n",
      "Last loss: 0.004897790960967541\n",
      "Processed  1920 QA pairs of  3760\n",
      "Last loss: 0.009207450784742832\n",
      "Processed  2000 QA pairs of  3760\n",
      "Last loss: 1.7663421630859375\n",
      "Processed  2080 QA pairs of  3760\n",
      "Last loss: 0.07696007192134857\n",
      "Processed  2160 QA pairs of  3760\n",
      "Last loss: 0.008395541459321976\n",
      "Processed  2240 QA pairs of  3760\n",
      "Last loss: 0.07223263382911682\n",
      "Processed  2320 QA pairs of  3760\n",
      "Last loss: 0.021563595160841942\n",
      "Processed  2400 QA pairs of  3760\n",
      "Last loss: 0.004405028186738491\n",
      "Processed  2480 QA pairs of  3760\n",
      "Last loss: 0.011484143324196339\n",
      "Processed  2560 QA pairs of  3760\n",
      "Last loss: 0.0037035513669252396\n",
      "Processed  2640 QA pairs of  3760\n",
      "Last loss: 0.04139159992337227\n",
      "Processed  2720 QA pairs of  3760\n",
      "Last loss: 0.015045387670397758\n",
      "Processed  2800 QA pairs of  3760\n",
      "Last loss: 0.010023493319749832\n",
      "Processed  2880 QA pairs of  3760\n",
      "Last loss: 0.024622051045298576\n",
      "Processed  2960 QA pairs of  3760\n",
      "Last loss: 0.0034720036201179028\n",
      "Processed  3040 QA pairs of  3760\n",
      "Last loss: 0.007158867083489895\n",
      "Processed  3120 QA pairs of  3760\n",
      "Last loss: 0.0017376155592501163\n",
      "Processed  3200 QA pairs of  3760\n",
      "Last loss: 0.0032067119609564543\n",
      "Processed  3280 QA pairs of  3760\n",
      "Last loss: 0.002373002003878355\n",
      "Processed  3360 QA pairs of  3760\n",
      "Last loss: 0.013989069499075413\n",
      "Processed  3440 QA pairs of  3760\n",
      "Last loss: 0.021480463445186615\n",
      "Processed  3520 QA pairs of  3760\n",
      "Last loss: 0.003931153099983931\n",
      "Processed  3600 QA pairs of  3760\n",
      "Last loss: 0.0022826045751571655\n",
      "Processed  3680 QA pairs of  3760\n",
      "Last loss: 0.01978832669556141\n",
      "Processed  3760 QA pairs of  3760\n",
      "Last loss: 0.14076447486877441\n",
      "After epoch: 0 Loss is: 169.04989628400654\n"
     ]
    }
   ],
   "source": [
    "# start training for \"food\" slot\n",
    "train_model(MODEL_food, EPOCHS, train_food_dataloader, train_food_dataset)"
   ]
  },
  {
   "cell_type": "code",
   "execution_count": null,
   "metadata": {
    "colab": {
     "base_uri": "https://localhost:8080/"
    },
    "executionInfo": {
     "elapsed": 26752,
     "status": "ok",
     "timestamp": 1626238704108,
     "user": {
      "displayName": "Yuqing Echo Zhang",
      "photoUrl": "https://lh3.googleusercontent.com/a-/AOh14GgWsO25qvqbt2rJ8bXoeWOOnvzM0Hs0rvFSlvKctg=s64",
      "userId": "01409706311214610502"
     },
     "user_tz": 420
    },
    "id": "Pp7d0V0MTkQd",
    "outputId": "bcd05dad-e04c-461f-9e36-07c52262463f"
   },
   "outputs": [
    {
     "name": "stdout",
     "output_type": "stream",
     "text": [
      "Processed  80 QA pairs of  3760\n",
      "Last loss: 4.08853816986084\n",
      "Processed  160 QA pairs of  3760\n",
      "Last loss: 0.32913580536842346\n",
      "Processed  240 QA pairs of  3760\n",
      "Last loss: 0.1239340603351593\n",
      "Processed  320 QA pairs of  3760\n",
      "Last loss: 1.2988331317901611\n",
      "Processed  400 QA pairs of  3760\n",
      "Last loss: 0.9637863039970398\n",
      "Processed  480 QA pairs of  3760\n",
      "Last loss: 0.056811340153217316\n",
      "Processed  560 QA pairs of  3760\n",
      "Last loss: 0.4704493582248688\n",
      "Processed  640 QA pairs of  3760\n",
      "Last loss: 0.28271085023880005\n",
      "Processed  720 QA pairs of  3760\n",
      "Last loss: 0.021310556679964066\n",
      "Processed  800 QA pairs of  3760\n",
      "Last loss: 0.02728232741355896\n",
      "Processed  880 QA pairs of  3760\n",
      "Last loss: 0.09154394268989563\n",
      "Processed  960 QA pairs of  3760\n",
      "Last loss: 0.049079105257987976\n",
      "Processed  1040 QA pairs of  3760\n",
      "Last loss: 0.00849387887865305\n",
      "Processed  1120 QA pairs of  3760\n",
      "Last loss: 0.04806038364768028\n",
      "Processed  1200 QA pairs of  3760\n",
      "Last loss: 0.026445701718330383\n",
      "Processed  1280 QA pairs of  3760\n",
      "Last loss: 0.006094635929912329\n",
      "Processed  1360 QA pairs of  3760\n",
      "Last loss: 0.050779834389686584\n",
      "Processed  1440 QA pairs of  3760\n",
      "Last loss: 0.21815772354602814\n",
      "Processed  1520 QA pairs of  3760\n",
      "Last loss: 1.2869154214859009\n",
      "Processed  1600 QA pairs of  3760\n",
      "Last loss: 0.05091392248868942\n",
      "Processed  1680 QA pairs of  3760\n",
      "Last loss: 0.032541390508413315\n",
      "Processed  1760 QA pairs of  3760\n",
      "Last loss: 0.13072943687438965\n",
      "Processed  1840 QA pairs of  3760\n",
      "Last loss: 0.06140585243701935\n",
      "Processed  1920 QA pairs of  3760\n",
      "Last loss: 0.0031142784282565117\n",
      "Processed  2000 QA pairs of  3760\n",
      "Last loss: 0.05874312296509743\n",
      "Processed  2080 QA pairs of  3760\n",
      "Last loss: 0.2584214508533478\n",
      "Processed  2160 QA pairs of  3760\n",
      "Last loss: 0.19562296569347382\n",
      "Processed  2240 QA pairs of  3760\n",
      "Last loss: 0.002615164965391159\n",
      "Processed  2320 QA pairs of  3760\n",
      "Last loss: 0.04379213973879814\n",
      "Processed  2400 QA pairs of  3760\n",
      "Last loss: 0.007051621563732624\n",
      "Processed  2480 QA pairs of  3760\n",
      "Last loss: 0.023534012958407402\n",
      "Processed  2560 QA pairs of  3760\n",
      "Last loss: 0.03347520902752876\n",
      "Processed  2640 QA pairs of  3760\n",
      "Last loss: 0.061893824487924576\n",
      "Processed  2720 QA pairs of  3760\n",
      "Last loss: 0.037224434316158295\n",
      "Processed  2800 QA pairs of  3760\n",
      "Last loss: 0.4465009272098541\n",
      "Processed  2880 QA pairs of  3760\n",
      "Last loss: 0.029267115518450737\n",
      "Processed  2960 QA pairs of  3760\n",
      "Last loss: 0.02805296890437603\n",
      "Processed  3040 QA pairs of  3760\n",
      "Last loss: 0.06662046909332275\n",
      "Processed  3120 QA pairs of  3760\n",
      "Last loss: 0.11354649066925049\n",
      "Processed  3200 QA pairs of  3760\n",
      "Last loss: 2.047886848449707\n",
      "Processed  3280 QA pairs of  3760\n",
      "Last loss: 0.03370390459895134\n",
      "Processed  3360 QA pairs of  3760\n",
      "Last loss: 0.3205145597457886\n",
      "Processed  3440 QA pairs of  3760\n",
      "Last loss: 0.062944196164608\n",
      "Processed  3520 QA pairs of  3760\n",
      "Last loss: 0.0021816184744238853\n",
      "Processed  3600 QA pairs of  3760\n",
      "Last loss: 0.029147306457161903\n",
      "Processed  3680 QA pairs of  3760\n",
      "Last loss: 0.005865246057510376\n",
      "Processed  3760 QA pairs of  3760\n",
      "Last loss: 0.0017130806809291244\n",
      "After epoch: 0 Loss is: 178.11025611311197\n"
     ]
    }
   ],
   "source": [
    "# start training for \"name\" slot\n",
    "train_model(MODEL_name, EPOCHS, train_name_dataloader, train_name_dataset)"
   ]
  },
  {
   "cell_type": "markdown",
   "metadata": {},
   "source": [
    "### QA system evaluation on dev set\n",
    "*Evaluate the Question and Answer system for \"food\" and \"name\" slots on dev set.*"
   ]
  },
  {
   "cell_type": "code",
   "execution_count": null,
   "metadata": {
    "id": "7ID7h5WiS2iW"
   },
   "outputs": [],
   "source": [
    "def evaluate(model, dataloader):\n",
    "    predicted_starts = []\n",
    "    gold_starts = []\n",
    "    predicted_ends = []\n",
    "    gold_ends = []\n",
    "    model.eval()\n",
    "    with torch.no_grad():\n",
    "        for dev_text_batch, dev_span_batch, masks in dataloader:\n",
    "            dev_text_batch, masks = dev_text_batch.to(device), masks.to(device)\n",
    "            output = model(dev_text_batch,attention_mask=masks)\n",
    "            start_scores = output.start_logits.to('cpu').detach().numpy()\n",
    "            end_scores = output.end_logits.to('cpu').detach().numpy()\n",
    "            targets = dev_span_batch.detach().numpy()\n",
    "            predicted_starts.extend(list(np.argmax(start_scores, axis=1)))\n",
    "            gold_starts.extend(list(targets[:,0]))\n",
    "            predicted_ends.extend(list(np.argmax(end_scores, axis=1)))\n",
    "            gold_ends.extend(list(targets[:,1]))\n",
    "\n",
    "    print(\"Starts accuracy\")\n",
    "    print(accuracy_score(gold_starts,predicted_starts))\n",
    "    print(\"Ends accuracy\")\n",
    "    print(accuracy_score(gold_ends,predicted_ends))"
   ]
  },
  {
   "cell_type": "code",
   "execution_count": null,
   "metadata": {
    "colab": {
     "base_uri": "https://localhost:8080/"
    },
    "executionInfo": {
     "elapsed": 868,
     "status": "ok",
     "timestamp": 1626238564271,
     "user": {
      "displayName": "Yuqing Echo Zhang",
      "photoUrl": "https://lh3.googleusercontent.com/a-/AOh14GgWsO25qvqbt2rJ8bXoeWOOnvzM0Hs0rvFSlvKctg=s64",
      "userId": "01409706311214610502"
     },
     "user_tz": 420
    },
    "id": "T4t7EylNWGeT",
    "outputId": "7aa2a4f9-9691-4056-f403-f0577447e5ba"
   },
   "outputs": [
    {
     "name": "stdout",
     "output_type": "stream",
     "text": [
      "Starts accuracy\n",
      "0.9878934624697336\n",
      "Ends accuracy\n",
      "0.9830508474576272\n"
     ]
    }
   ],
   "source": [
    "# evaluate for \"food\" slot\n",
    "evaluate(MODEL_food, dev_food_dataloader)"
   ]
  },
  {
   "cell_type": "code",
   "execution_count": null,
   "metadata": {
    "colab": {
     "base_uri": "https://localhost:8080/"
    },
    "executionInfo": {
     "elapsed": 901,
     "status": "ok",
     "timestamp": 1626238709766,
     "user": {
      "displayName": "Yuqing Echo Zhang",
      "photoUrl": "https://lh3.googleusercontent.com/a-/AOh14GgWsO25qvqbt2rJ8bXoeWOOnvzM0Hs0rvFSlvKctg=s64",
      "userId": "01409706311214610502"
     },
     "user_tz": 420
    },
    "id": "OTn2uJoYWo8Q",
    "outputId": "c2799caf-8c66-47d0-a743-69fcb04b20bf"
   },
   "outputs": [
    {
     "name": "stdout",
     "output_type": "stream",
     "text": [
      "Starts accuracy\n",
      "0.9757869249394673\n",
      "Ends accuracy\n",
      "0.9709443099273608\n"
     ]
    }
   ],
   "source": [
    "# evaluate for \"name\" slot\n",
    "evaluate(MODEL_name, dev_name_dataloader)"
   ]
  },
  {
   "cell_type": "markdown",
   "metadata": {},
   "source": [
    "### Prediction\n",
    "*Predict intents and slots. Then, concatenate answers(e.g.\"find_intent|intent-slot1=ans1|intent-slot2=ans2\") and set up the pipeline.*"
   ]
  },
  {
   "cell_type": "code",
   "execution_count": null,
   "metadata": {
    "id": "7eeoiy_pb54e"
   },
   "outputs": [],
   "source": [
    "def select_best_answer_span(start_probs, end_probs, distance):\n",
    "    '''\n",
    "    Given 2 matrices of probabilities associated with indicies of a text being the start or end of an answer spans, respectively,\n",
    "    finds the highest probability spans under the restriction that the end index must be no more than distance after the start. \n",
    "    Returns a list (start index, end index) 2-plues corresponding to the best solution for each row of start/end_probs.\n",
    "    '''\n",
    "    best_starts = np.argsort(start_probs*-1, axis=1)\n",
    "    best_ends = np.argsort(end_probs*-1, axis=1)\n",
    "    output_spans = []\n",
    "    for i in range(len(start_probs)):\n",
    "        step = 0\n",
    "        found = False\n",
    "        sorted_spans = []\n",
    "        bound = 0\n",
    "        while not found:\n",
    "            sorted_spans.extend([(start_probs[i, best_starts[i,j]] + end_probs[i,best_ends[i,step]], \n",
    "                                     best_starts[i,j], best_ends[i,step]) for j in range(step + 1)])\n",
    "            sorted_spans.extend([(start_probs[i, best_starts[i,step]] + end_probs[i,best_ends[i,j]], \n",
    "                                     best_starts[i,step], best_ends[i,j]) for j in range(step)])\n",
    "              \n",
    "            sorted_spans.sort()\n",
    "            bound = max(start_probs[i,best_starts[i,0]] + end_probs[i,best_ends[i,step]], \n",
    "                        start_probs[i,best_starts[i,step]] + end_probs[i,best_ends[i,0]]) \n",
    "            step += 1\n",
    "            while sorted_spans and sorted_spans[-1][0] >= bound and not found:\n",
    "                curr = sorted_spans.pop()\n",
    "                if curr[1] <= curr[2] <= curr[1] + distance:\n",
    "                    found = (curr[1],curr[2])\n",
    "                    \n",
    "        output_spans.append(found)\n",
    "    return output_spans"
   ]
  },
  {
   "cell_type": "code",
   "execution_count": null,
   "metadata": {
    "id": "FYZvUU69WvKS"
   },
   "outputs": [],
   "source": [
    "def predict(model, dataloader, string):\n",
    "    answers = []\n",
    "    with torch.no_grad():\n",
    "        model.to(device)\n",
    "        for test_text_batch, test_span_batch, masks in dataloader:\n",
    "            test_text_batch, masks = test_text_batch.to(device), masks.to(device)\n",
    "            output = model(test_text_batch,attention_mask=masks)\n",
    "            start_scores = output.start_logits.to('cpu').detach()\n",
    "            end_scores = output.end_logits.to('cpu').detach()\n",
    "            start_probs = F.log_softmax(start_scores,dim=1).numpy()\n",
    "            end_probs = F.log_softmax(end_scores,dim=1).numpy()\n",
    "            spans = select_best_answer_span(start_probs, end_probs, distance)\n",
    "            for i in range(len(spans)):\n",
    "                answers.append(string+\"=\"+tokenizer.decode(test_text_batch[i,spans[i][0]: spans[i][1] + 1]))\n",
    "    return answers"
   ]
  },
  {
   "cell_type": "code",
   "execution_count": null,
   "metadata": {
    "id": "TY3gwaYRsudH"
   },
   "outputs": [],
   "source": [
    "# predict for intents \n",
    "vectorizer = CountVectorizer(stop_words = 'english')\n",
    "x_train = vectorizer.fit_transform(train_utt)\n",
    "x_dev = vectorizer.transform(dev_utt)\n",
    "clf = LogisticRegression()\n",
    "clf.fit(x_train, train_intent)\n",
    "dev_pred = clf.predict(x_dev)"
   ]
  },
  {
   "cell_type": "code",
   "execution_count": 76,
   "metadata": {
    "executionInfo": {
     "elapsed": 1157,
     "status": "ok",
     "timestamp": 1626239687851,
     "user": {
      "displayName": "Yuqing Echo Zhang",
      "photoUrl": "https://lh3.googleusercontent.com/a-/AOh14GgWsO25qvqbt2rJ8bXoeWOOnvzM0Hs0rvFSlvKctg=s64",
      "userId": "01409706311214610502"
     },
     "user_tz": 420
    },
    "id": "1rgcYT_WPRDU"
   },
   "outputs": [],
   "source": [
    "distance = 20\n",
    "\n",
    "# predict for \"food\" slot\n",
    "dev_food = predict(MODEL_food, dev_food_dataloader, string='food')\n",
    "# predict for \"name\" slot\n",
    "dev_name = predict(MODEL_name, dev_name_dataloader, string='name')\n",
    "assert len(dev_food) == len(dev_name) == len(dev_pred)"
   ]
  },
  {
   "cell_type": "code",
   "execution_count": 85,
   "metadata": {
    "executionInfo": {
     "elapsed": 116,
     "status": "ok",
     "timestamp": 1626240188726,
     "user": {
      "displayName": "Yuqing Echo Zhang",
      "photoUrl": "https://lh3.googleusercontent.com/a-/AOh14GgWsO25qvqbt2rJ8bXoeWOOnvzM0Hs0rvFSlvKctg=s64",
      "userId": "01409706311214610502"
     },
     "user_tz": 420
    },
    "id": "gN-nbf4XPkzK"
   },
   "outputs": [],
   "source": [
    "def pipeline_res(intents, food_lst, name_lst, utts):\n",
    "    '''\n",
    "    Generates the end-result for comparison. \n",
    "    Returns a list of results.\n",
    "    '''\n",
    "    res = []\n",
    "    for intent, food, name, utt in zip(intents, food_lst, name_lst, utts):\n",
    "        answer = []\n",
    "        pricerange = rules.slot_pricerange(utt)\n",
    "        area = rules.slot_area(utt)\n",
    "        internet = rules.slot_internet(utt)\n",
    "        parking = rules.slot_parking(utt)\n",
    "        # intent name\n",
    "        i = intent.split('_')[1] + '-'\n",
    "        \n",
    "        # construct answers\n",
    "        if pricerange:\n",
    "            answer.append(i + pricerange)\n",
    "        if area:\n",
    "            answer.append(i + area)\n",
    "        if internet:\n",
    "            answer.append(i + internet)\n",
    "        if parking:\n",
    "            answer.append(i + parking)\n",
    "        if name != 'name=[CLS]':\n",
    "            answer.append(i + name)\n",
    "            \n",
    "        # if intent is find_hotel\n",
    "        if intent == 'find_hotel':\n",
    "            # hotel specific slots\n",
    "            hoteltype = rules.slot_hoteltype(utt)\n",
    "            hotelstars = rules.slot_hotelstars(utt)\n",
    "            if hoteltype:\n",
    "                answer.append('hotel-' + hoteltype)\n",
    "            if hotelstars:\n",
    "                answer.append('hotel-' + hotelstars)\n",
    "        # if intent is restaurant\n",
    "        else:\n",
    "            # restaurant specific slots\n",
    "            if food != 'food=[CLS]':\n",
    "                answer.append('restaurant-' + food)\n",
    "\n",
    "        if len(answer) > 0:\n",
    "            res.append(intent + '|' +  '|'.join(sorted(answer)))\n",
    "        else:\n",
    "            res.append(intent)\n",
    "\n",
    "    return res"
   ]
  },
  {
   "cell_type": "code",
   "execution_count": 91,
   "metadata": {
    "colab": {
     "base_uri": "https://localhost:8080/"
    },
    "executionInfo": {
     "elapsed": 267,
     "status": "ok",
     "timestamp": 1626240400203,
     "user": {
      "displayName": "Yuqing Echo Zhang",
      "photoUrl": "https://lh3.googleusercontent.com/a-/AOh14GgWsO25qvqbt2rJ8bXoeWOOnvzM0Hs0rvFSlvKctg=s64",
      "userId": "01409706311214610502"
     },
     "user_tz": 420
    },
    "id": "4YnZh8oDVxhY",
    "outputId": "ade4fb4c-d16d-4e02-d64c-4d088c816f0d"
   },
   "outputs": [
    {
     "data": {
      "text/plain": [
       "0.8062953995157385"
      ]
     },
     "execution_count": 91,
     "metadata": {
      "tags": []
     },
     "output_type": "execute_result"
    }
   ],
   "source": [
    "# check accuracy score for dev set\n",
    "dev_res = pipeline_res(dev_pred, dev_food, dev_name, dev_utt)\n",
    "accuracy_score(dev_ans, dev_res)"
   ]
  },
  {
   "cell_type": "markdown",
   "metadata": {},
   "source": [
    "### Evaluation on test set\n",
    "*Predict intents and answers for their corresponding slots. Evaluate on test set by computing accuracy scores.*"
   ]
  },
  {
   "cell_type": "code",
   "execution_count": 93,
   "metadata": {
    "executionInfo": {
     "elapsed": 144,
     "status": "ok",
     "timestamp": 1626240687160,
     "user": {
      "displayName": "Yuqing Echo Zhang",
      "photoUrl": "https://lh3.googleusercontent.com/a-/AOh14GgWsO25qvqbt2rJ8bXoeWOOnvzM0Hs0rvFSlvKctg=s64",
      "userId": "01409706311214610502"
     },
     "user_tz": 420
    },
    "id": "bkWaf5phfjob"
   },
   "outputs": [],
   "source": [
    "# predict for intents\n",
    "x_test = vectorizer.transform(test_utt)\n",
    "test_pred = clf.predict(x_test)"
   ]
  },
  {
   "cell_type": "code",
   "execution_count": 94,
   "metadata": {
    "executionInfo": {
     "elapsed": 1454,
     "status": "ok",
     "timestamp": 1626240734233,
     "user": {
      "displayName": "Yuqing Echo Zhang",
      "photoUrl": "https://lh3.googleusercontent.com/a-/AOh14GgWsO25qvqbt2rJ8bXoeWOOnvzM0Hs0rvFSlvKctg=s64",
      "userId": "01409706311214610502"
     },
     "user_tz": 420
    },
    "id": "jvRlEIzvf5mH"
   },
   "outputs": [],
   "source": [
    "distance = 20\n",
    "# predict for \"food\" slot\n",
    "test_food = predict(MODEL_food, test_food_dataloader, string='food')\n",
    "# predict for \"name\" slot\n",
    "test_name = predict(MODEL_name, test_name_dataloader, string='name')"
   ]
  },
  {
   "cell_type": "code",
   "execution_count": 101,
   "metadata": {
    "colab": {
     "base_uri": "https://localhost:8080/"
    },
    "executionInfo": {
     "elapsed": 221,
     "status": "ok",
     "timestamp": 1626240801257,
     "user": {
      "displayName": "Yuqing Echo Zhang",
      "photoUrl": "https://lh3.googleusercontent.com/a-/AOh14GgWsO25qvqbt2rJ8bXoeWOOnvzM0Hs0rvFSlvKctg=s64",
      "userId": "01409706311214610502"
     },
     "user_tz": 420
    },
    "id": "aufvGCXwgGtC",
    "outputId": "02b84023-5130-4a61-fcc4-59e51e7e1e2f"
   },
   "outputs": [
    {
     "data": {
      "text/plain": [
       "0.8375"
      ]
     },
     "execution_count": 101,
     "metadata": {
      "tags": []
     },
     "output_type": "execute_result"
    }
   ],
   "source": [
    "# check accuracy score for test set\n",
    "test_res = pipeline_res(test_pred, test_food, test_name, test_utt)\n",
    "accuracy_score(test_ans, test_res)"
   ]
  }
 ],
 "metadata": {
  "accelerator": "GPU",
  "colab": {
   "name": "563-lab4.ipynb",
   "provenance": []
  },
  "kernelspec": {
   "display_name": "Python 3",
   "language": "python",
   "name": "python3"
  },
  "language_info": {
   "codemirror_mode": {
    "name": "ipython",
    "version": 3
   },
   "file_extension": ".py",
   "mimetype": "text/x-python",
   "name": "python",
   "nbconvert_exporter": "python",
   "pygments_lexer": "ipython3",
   "version": "3.8.8"
  },
  "widgets": {
   "application/vnd.jupyter.widget-state+json": {
    "05150bce9ac94532bcde8da984e1746b": {
     "model_module": "@jupyter-widgets/controls",
     "model_name": "ProgressStyleModel",
     "state": {
      "_model_module": "@jupyter-widgets/controls",
      "_model_module_version": "1.5.0",
      "_model_name": "ProgressStyleModel",
      "_view_count": null,
      "_view_module": "@jupyter-widgets/base",
      "_view_module_version": "1.2.0",
      "_view_name": "StyleView",
      "bar_color": null,
      "description_width": "initial"
     }
    },
    "0e11c6b7641c4bc384cae99f8bb99019": {
     "model_module": "@jupyter-widgets/controls",
     "model_name": "HTMLModel",
     "state": {
      "_dom_classes": [],
      "_model_module": "@jupyter-widgets/controls",
      "_model_module_version": "1.5.0",
      "_model_name": "HTMLModel",
      "_view_count": null,
      "_view_module": "@jupyter-widgets/controls",
      "_view_module_version": "1.5.0",
      "_view_name": "HTMLView",
      "description": "",
      "description_tooltip": null,
      "layout": "IPY_MODEL_634c7d15955b44769e3bbfb2180a5059",
      "placeholder": "​",
      "style": "IPY_MODEL_c147daeab8f343bd86eab4c0df44bae4",
      "value": " 268M/268M [00:06&lt;00:00, 40.2MB/s]"
     }
    },
    "1edce6b8e03042109ef3b776df7fc2f6": {
     "model_module": "@jupyter-widgets/base",
     "model_name": "LayoutModel",
     "state": {
      "_model_module": "@jupyter-widgets/base",
      "_model_module_version": "1.2.0",
      "_model_name": "LayoutModel",
      "_view_count": null,
      "_view_module": "@jupyter-widgets/base",
      "_view_module_version": "1.2.0",
      "_view_name": "LayoutView",
      "align_content": null,
      "align_items": null,
      "align_self": null,
      "border": null,
      "bottom": null,
      "display": null,
      "flex": null,
      "flex_flow": null,
      "grid_area": null,
      "grid_auto_columns": null,
      "grid_auto_flow": null,
      "grid_auto_rows": null,
      "grid_column": null,
      "grid_gap": null,
      "grid_row": null,
      "grid_template_areas": null,
      "grid_template_columns": null,
      "grid_template_rows": null,
      "height": null,
      "justify_content": null,
      "justify_items": null,
      "left": null,
      "margin": null,
      "max_height": null,
      "max_width": null,
      "min_height": null,
      "min_width": null,
      "object_fit": null,
      "object_position": null,
      "order": null,
      "overflow": null,
      "overflow_x": null,
      "overflow_y": null,
      "padding": null,
      "right": null,
      "top": null,
      "visibility": null,
      "width": null
     }
    },
    "21068857b5ae48c8b4d42d46d4d564df": {
     "model_module": "@jupyter-widgets/base",
     "model_name": "LayoutModel",
     "state": {
      "_model_module": "@jupyter-widgets/base",
      "_model_module_version": "1.2.0",
      "_model_name": "LayoutModel",
      "_view_count": null,
      "_view_module": "@jupyter-widgets/base",
      "_view_module_version": "1.2.0",
      "_view_name": "LayoutView",
      "align_content": null,
      "align_items": null,
      "align_self": null,
      "border": null,
      "bottom": null,
      "display": null,
      "flex": null,
      "flex_flow": null,
      "grid_area": null,
      "grid_auto_columns": null,
      "grid_auto_flow": null,
      "grid_auto_rows": null,
      "grid_column": null,
      "grid_gap": null,
      "grid_row": null,
      "grid_template_areas": null,
      "grid_template_columns": null,
      "grid_template_rows": null,
      "height": null,
      "justify_content": null,
      "justify_items": null,
      "left": null,
      "margin": null,
      "max_height": null,
      "max_width": null,
      "min_height": null,
      "min_width": null,
      "object_fit": null,
      "object_position": null,
      "order": null,
      "overflow": null,
      "overflow_x": null,
      "overflow_y": null,
      "padding": null,
      "right": null,
      "top": null,
      "visibility": null,
      "width": null
     }
    },
    "2c093b96e358428e8929c8fa5a71f8bc": {
     "model_module": "@jupyter-widgets/controls",
     "model_name": "HBoxModel",
     "state": {
      "_dom_classes": [],
      "_model_module": "@jupyter-widgets/controls",
      "_model_module_version": "1.5.0",
      "_model_name": "HBoxModel",
      "_view_count": null,
      "_view_module": "@jupyter-widgets/controls",
      "_view_module_version": "1.5.0",
      "_view_name": "HBoxView",
      "box_style": "",
      "children": [
       "IPY_MODEL_357dce4cf9eb41be9dd3c774f778b655",
       "IPY_MODEL_bd723c11dadc4754bc3f7668136cf980"
      ],
      "layout": "IPY_MODEL_a0a107f9d4a540a394c706167bc9eee0"
     }
    },
    "319c7ad0a7e048db93d35370850395b6": {
     "model_module": "@jupyter-widgets/controls",
     "model_name": "HBoxModel",
     "state": {
      "_dom_classes": [],
      "_model_module": "@jupyter-widgets/controls",
      "_model_module_version": "1.5.0",
      "_model_name": "HBoxModel",
      "_view_count": null,
      "_view_module": "@jupyter-widgets/controls",
      "_view_module_version": "1.5.0",
      "_view_name": "HBoxView",
      "box_style": "",
      "children": [
       "IPY_MODEL_a65617545aec4682a5596d682dff670d",
       "IPY_MODEL_f4e93d0edb6c4b1a8fb0ab436c98d07f"
      ],
      "layout": "IPY_MODEL_f05eaf1255ca4ed7ac022b69335ab493"
     }
    },
    "357dce4cf9eb41be9dd3c774f778b655": {
     "model_module": "@jupyter-widgets/controls",
     "model_name": "FloatProgressModel",
     "state": {
      "_dom_classes": [],
      "_model_module": "@jupyter-widgets/controls",
      "_model_module_version": "1.5.0",
      "_model_name": "FloatProgressModel",
      "_view_count": null,
      "_view_module": "@jupyter-widgets/controls",
      "_view_module_version": "1.5.0",
      "_view_name": "ProgressView",
      "bar_style": "success",
      "description": "Downloading: 100%",
      "description_tooltip": null,
      "layout": "IPY_MODEL_fe6baf720191438da17891486e3d15fa",
      "max": 442,
      "min": 0,
      "orientation": "horizontal",
      "style": "IPY_MODEL_5a9309db100344198d57a90e335fbc0f",
      "value": 442
     }
    },
    "36141190f73b477eaa5f4b3de4d309ab": {
     "model_module": "@jupyter-widgets/controls",
     "model_name": "DescriptionStyleModel",
     "state": {
      "_model_module": "@jupyter-widgets/controls",
      "_model_module_version": "1.5.0",
      "_model_name": "DescriptionStyleModel",
      "_view_count": null,
      "_view_module": "@jupyter-widgets/base",
      "_view_module_version": "1.2.0",
      "_view_name": "StyleView",
      "description_width": ""
     }
    },
    "3894e1e1ebb94137bff72179cf7a21c0": {
     "model_module": "@jupyter-widgets/controls",
     "model_name": "DescriptionStyleModel",
     "state": {
      "_model_module": "@jupyter-widgets/controls",
      "_model_module_version": "1.5.0",
      "_model_name": "DescriptionStyleModel",
      "_view_count": null,
      "_view_module": "@jupyter-widgets/base",
      "_view_module_version": "1.2.0",
      "_view_name": "StyleView",
      "description_width": ""
     }
    },
    "461b8d10f0dc467ba80dd41c6d7ebb2e": {
     "model_module": "@jupyter-widgets/controls",
     "model_name": "HBoxModel",
     "state": {
      "_dom_classes": [],
      "_model_module": "@jupyter-widgets/controls",
      "_model_module_version": "1.5.0",
      "_model_name": "HBoxModel",
      "_view_count": null,
      "_view_module": "@jupyter-widgets/controls",
      "_view_module_version": "1.5.0",
      "_view_name": "HBoxView",
      "box_style": "",
      "children": [
       "IPY_MODEL_9e3ac1709bd3469baf75368bcfc901fa",
       "IPY_MODEL_0e11c6b7641c4bc384cae99f8bb99019"
      ],
      "layout": "IPY_MODEL_8f1f305e6e914df3a5165d8b9a9ebe3c"
     }
    },
    "49e524bf175b47c999002443f778922b": {
     "model_module": "@jupyter-widgets/base",
     "model_name": "LayoutModel",
     "state": {
      "_model_module": "@jupyter-widgets/base",
      "_model_module_version": "1.2.0",
      "_model_name": "LayoutModel",
      "_view_count": null,
      "_view_module": "@jupyter-widgets/base",
      "_view_module_version": "1.2.0",
      "_view_name": "LayoutView",
      "align_content": null,
      "align_items": null,
      "align_self": null,
      "border": null,
      "bottom": null,
      "display": null,
      "flex": null,
      "flex_flow": null,
      "grid_area": null,
      "grid_auto_columns": null,
      "grid_auto_flow": null,
      "grid_auto_rows": null,
      "grid_column": null,
      "grid_gap": null,
      "grid_row": null,
      "grid_template_areas": null,
      "grid_template_columns": null,
      "grid_template_rows": null,
      "height": null,
      "justify_content": null,
      "justify_items": null,
      "left": null,
      "margin": null,
      "max_height": null,
      "max_width": null,
      "min_height": null,
      "min_width": null,
      "object_fit": null,
      "object_position": null,
      "order": null,
      "overflow": null,
      "overflow_x": null,
      "overflow_y": null,
      "padding": null,
      "right": null,
      "top": null,
      "visibility": null,
      "width": null
     }
    },
    "4ad5a80d33964f24b20cd329cb574275": {
     "model_module": "@jupyter-widgets/base",
     "model_name": "LayoutModel",
     "state": {
      "_model_module": "@jupyter-widgets/base",
      "_model_module_version": "1.2.0",
      "_model_name": "LayoutModel",
      "_view_count": null,
      "_view_module": "@jupyter-widgets/base",
      "_view_module_version": "1.2.0",
      "_view_name": "LayoutView",
      "align_content": null,
      "align_items": null,
      "align_self": null,
      "border": null,
      "bottom": null,
      "display": null,
      "flex": null,
      "flex_flow": null,
      "grid_area": null,
      "grid_auto_columns": null,
      "grid_auto_flow": null,
      "grid_auto_rows": null,
      "grid_column": null,
      "grid_gap": null,
      "grid_row": null,
      "grid_template_areas": null,
      "grid_template_columns": null,
      "grid_template_rows": null,
      "height": null,
      "justify_content": null,
      "justify_items": null,
      "left": null,
      "margin": null,
      "max_height": null,
      "max_width": null,
      "min_height": null,
      "min_width": null,
      "object_fit": null,
      "object_position": null,
      "order": null,
      "overflow": null,
      "overflow_x": null,
      "overflow_y": null,
      "padding": null,
      "right": null,
      "top": null,
      "visibility": null,
      "width": null
     }
    },
    "4c21072f467f4baabec8b9a4d5c371c2": {
     "model_module": "@jupyter-widgets/controls",
     "model_name": "HBoxModel",
     "state": {
      "_dom_classes": [],
      "_model_module": "@jupyter-widgets/controls",
      "_model_module_version": "1.5.0",
      "_model_name": "HBoxModel",
      "_view_count": null,
      "_view_module": "@jupyter-widgets/controls",
      "_view_module_version": "1.5.0",
      "_view_name": "HBoxView",
      "box_style": "",
      "children": [
       "IPY_MODEL_a734a2c864654e179e55050a492f7785",
       "IPY_MODEL_b48d0920cf34456881406a34a6dec362"
      ],
      "layout": "IPY_MODEL_e478241356d8467d998e4880301f1647"
     }
    },
    "4d96d7b40ebf42d8bfa8b8195e9f6a0e": {
     "model_module": "@jupyter-widgets/controls",
     "model_name": "HBoxModel",
     "state": {
      "_dom_classes": [],
      "_model_module": "@jupyter-widgets/controls",
      "_model_module_version": "1.5.0",
      "_model_name": "HBoxModel",
      "_view_count": null,
      "_view_module": "@jupyter-widgets/controls",
      "_view_module_version": "1.5.0",
      "_view_name": "HBoxView",
      "box_style": "",
      "children": [
       "IPY_MODEL_a06331ede67d49f5b355980d8141aff9",
       "IPY_MODEL_83f4aadd890345c6ab27131dc040f93d"
      ],
      "layout": "IPY_MODEL_21068857b5ae48c8b4d42d46d4d564df"
     }
    },
    "5a9309db100344198d57a90e335fbc0f": {
     "model_module": "@jupyter-widgets/controls",
     "model_name": "ProgressStyleModel",
     "state": {
      "_model_module": "@jupyter-widgets/controls",
      "_model_module_version": "1.5.0",
      "_model_name": "ProgressStyleModel",
      "_view_count": null,
      "_view_module": "@jupyter-widgets/base",
      "_view_module_version": "1.2.0",
      "_view_name": "StyleView",
      "bar_color": null,
      "description_width": "initial"
     }
    },
    "600c5c5c76c244efb526b7010bbae1b1": {
     "model_module": "@jupyter-widgets/controls",
     "model_name": "ProgressStyleModel",
     "state": {
      "_model_module": "@jupyter-widgets/controls",
      "_model_module_version": "1.5.0",
      "_model_name": "ProgressStyleModel",
      "_view_count": null,
      "_view_module": "@jupyter-widgets/base",
      "_view_module_version": "1.2.0",
      "_view_name": "StyleView",
      "bar_color": null,
      "description_width": "initial"
     }
    },
    "634c7d15955b44769e3bbfb2180a5059": {
     "model_module": "@jupyter-widgets/base",
     "model_name": "LayoutModel",
     "state": {
      "_model_module": "@jupyter-widgets/base",
      "_model_module_version": "1.2.0",
      "_model_name": "LayoutModel",
      "_view_count": null,
      "_view_module": "@jupyter-widgets/base",
      "_view_module_version": "1.2.0",
      "_view_name": "LayoutView",
      "align_content": null,
      "align_items": null,
      "align_self": null,
      "border": null,
      "bottom": null,
      "display": null,
      "flex": null,
      "flex_flow": null,
      "grid_area": null,
      "grid_auto_columns": null,
      "grid_auto_flow": null,
      "grid_auto_rows": null,
      "grid_column": null,
      "grid_gap": null,
      "grid_row": null,
      "grid_template_areas": null,
      "grid_template_columns": null,
      "grid_template_rows": null,
      "height": null,
      "justify_content": null,
      "justify_items": null,
      "left": null,
      "margin": null,
      "max_height": null,
      "max_width": null,
      "min_height": null,
      "min_width": null,
      "object_fit": null,
      "object_position": null,
      "order": null,
      "overflow": null,
      "overflow_x": null,
      "overflow_y": null,
      "padding": null,
      "right": null,
      "top": null,
      "visibility": null,
      "width": null
     }
    },
    "7814a899eb544a23bbfd3f0126a31f6d": {
     "model_module": "@jupyter-widgets/base",
     "model_name": "LayoutModel",
     "state": {
      "_model_module": "@jupyter-widgets/base",
      "_model_module_version": "1.2.0",
      "_model_name": "LayoutModel",
      "_view_count": null,
      "_view_module": "@jupyter-widgets/base",
      "_view_module_version": "1.2.0",
      "_view_name": "LayoutView",
      "align_content": null,
      "align_items": null,
      "align_self": null,
      "border": null,
      "bottom": null,
      "display": null,
      "flex": null,
      "flex_flow": null,
      "grid_area": null,
      "grid_auto_columns": null,
      "grid_auto_flow": null,
      "grid_auto_rows": null,
      "grid_column": null,
      "grid_gap": null,
      "grid_row": null,
      "grid_template_areas": null,
      "grid_template_columns": null,
      "grid_template_rows": null,
      "height": null,
      "justify_content": null,
      "justify_items": null,
      "left": null,
      "margin": null,
      "max_height": null,
      "max_width": null,
      "min_height": null,
      "min_width": null,
      "object_fit": null,
      "object_position": null,
      "order": null,
      "overflow": null,
      "overflow_x": null,
      "overflow_y": null,
      "padding": null,
      "right": null,
      "top": null,
      "visibility": null,
      "width": null
     }
    },
    "7ab1a0321fcb4859886c4fd06e00a005": {
     "model_module": "@jupyter-widgets/controls",
     "model_name": "ProgressStyleModel",
     "state": {
      "_model_module": "@jupyter-widgets/controls",
      "_model_module_version": "1.5.0",
      "_model_name": "ProgressStyleModel",
      "_view_count": null,
      "_view_module": "@jupyter-widgets/base",
      "_view_module_version": "1.2.0",
      "_view_name": "StyleView",
      "bar_color": null,
      "description_width": "initial"
     }
    },
    "8059ddf432254b67a89d903d459006d3": {
     "model_module": "@jupyter-widgets/controls",
     "model_name": "DescriptionStyleModel",
     "state": {
      "_model_module": "@jupyter-widgets/controls",
      "_model_module_version": "1.5.0",
      "_model_name": "DescriptionStyleModel",
      "_view_count": null,
      "_view_module": "@jupyter-widgets/base",
      "_view_module_version": "1.2.0",
      "_view_name": "StyleView",
      "description_width": ""
     }
    },
    "8294d95ad6f64e45ba68d15a79bee4e9": {
     "model_module": "@jupyter-widgets/controls",
     "model_name": "ProgressStyleModel",
     "state": {
      "_model_module": "@jupyter-widgets/controls",
      "_model_module_version": "1.5.0",
      "_model_name": "ProgressStyleModel",
      "_view_count": null,
      "_view_module": "@jupyter-widgets/base",
      "_view_module_version": "1.2.0",
      "_view_name": "StyleView",
      "bar_color": null,
      "description_width": "initial"
     }
    },
    "83f4aadd890345c6ab27131dc040f93d": {
     "model_module": "@jupyter-widgets/controls",
     "model_name": "HTMLModel",
     "state": {
      "_dom_classes": [],
      "_model_module": "@jupyter-widgets/controls",
      "_model_module_version": "1.5.0",
      "_model_name": "HTMLModel",
      "_view_count": null,
      "_view_module": "@jupyter-widgets/controls",
      "_view_module_version": "1.5.0",
      "_view_name": "HTMLView",
      "description": "",
      "description_tooltip": null,
      "layout": "IPY_MODEL_f77ca790221546b28e6110f2f57f39cf",
      "placeholder": "​",
      "style": "IPY_MODEL_36141190f73b477eaa5f4b3de4d309ab",
      "value": " 28.0/28.0 [00:00&lt;00:00, 154B/s]"
     }
    },
    "8f1f305e6e914df3a5165d8b9a9ebe3c": {
     "model_module": "@jupyter-widgets/base",
     "model_name": "LayoutModel",
     "state": {
      "_model_module": "@jupyter-widgets/base",
      "_model_module_version": "1.2.0",
      "_model_name": "LayoutModel",
      "_view_count": null,
      "_view_module": "@jupyter-widgets/base",
      "_view_module_version": "1.2.0",
      "_view_name": "LayoutView",
      "align_content": null,
      "align_items": null,
      "align_self": null,
      "border": null,
      "bottom": null,
      "display": null,
      "flex": null,
      "flex_flow": null,
      "grid_area": null,
      "grid_auto_columns": null,
      "grid_auto_flow": null,
      "grid_auto_rows": null,
      "grid_column": null,
      "grid_gap": null,
      "grid_row": null,
      "grid_template_areas": null,
      "grid_template_columns": null,
      "grid_template_rows": null,
      "height": null,
      "justify_content": null,
      "justify_items": null,
      "left": null,
      "margin": null,
      "max_height": null,
      "max_width": null,
      "min_height": null,
      "min_width": null,
      "object_fit": null,
      "object_position": null,
      "order": null,
      "overflow": null,
      "overflow_x": null,
      "overflow_y": null,
      "padding": null,
      "right": null,
      "top": null,
      "visibility": null,
      "width": null
     }
    },
    "9e3ac1709bd3469baf75368bcfc901fa": {
     "model_module": "@jupyter-widgets/controls",
     "model_name": "FloatProgressModel",
     "state": {
      "_dom_classes": [],
      "_model_module": "@jupyter-widgets/controls",
      "_model_module_version": "1.5.0",
      "_model_name": "FloatProgressModel",
      "_view_count": null,
      "_view_module": "@jupyter-widgets/controls",
      "_view_module_version": "1.5.0",
      "_view_name": "ProgressView",
      "bar_style": "success",
      "description": "Downloading: 100%",
      "description_tooltip": null,
      "layout": "IPY_MODEL_4ad5a80d33964f24b20cd329cb574275",
      "max": 267967963,
      "min": 0,
      "orientation": "horizontal",
      "style": "IPY_MODEL_600c5c5c76c244efb526b7010bbae1b1",
      "value": 267967963
     }
    },
    "a06331ede67d49f5b355980d8141aff9": {
     "model_module": "@jupyter-widgets/controls",
     "model_name": "FloatProgressModel",
     "state": {
      "_dom_classes": [],
      "_model_module": "@jupyter-widgets/controls",
      "_model_module_version": "1.5.0",
      "_model_name": "FloatProgressModel",
      "_view_count": null,
      "_view_module": "@jupyter-widgets/controls",
      "_view_module_version": "1.5.0",
      "_view_name": "ProgressView",
      "bar_style": "success",
      "description": "Downloading: 100%",
      "description_tooltip": null,
      "layout": "IPY_MODEL_e2ab3d1488594f3c8919805d417920e1",
      "max": 28,
      "min": 0,
      "orientation": "horizontal",
      "style": "IPY_MODEL_8294d95ad6f64e45ba68d15a79bee4e9",
      "value": 28
     }
    },
    "a0a107f9d4a540a394c706167bc9eee0": {
     "model_module": "@jupyter-widgets/base",
     "model_name": "LayoutModel",
     "state": {
      "_model_module": "@jupyter-widgets/base",
      "_model_module_version": "1.2.0",
      "_model_name": "LayoutModel",
      "_view_count": null,
      "_view_module": "@jupyter-widgets/base",
      "_view_module_version": "1.2.0",
      "_view_name": "LayoutView",
      "align_content": null,
      "align_items": null,
      "align_self": null,
      "border": null,
      "bottom": null,
      "display": null,
      "flex": null,
      "flex_flow": null,
      "grid_area": null,
      "grid_auto_columns": null,
      "grid_auto_flow": null,
      "grid_auto_rows": null,
      "grid_column": null,
      "grid_gap": null,
      "grid_row": null,
      "grid_template_areas": null,
      "grid_template_columns": null,
      "grid_template_rows": null,
      "height": null,
      "justify_content": null,
      "justify_items": null,
      "left": null,
      "margin": null,
      "max_height": null,
      "max_width": null,
      "min_height": null,
      "min_width": null,
      "object_fit": null,
      "object_position": null,
      "order": null,
      "overflow": null,
      "overflow_x": null,
      "overflow_y": null,
      "padding": null,
      "right": null,
      "top": null,
      "visibility": null,
      "width": null
     }
    },
    "a65617545aec4682a5596d682dff670d": {
     "model_module": "@jupyter-widgets/controls",
     "model_name": "FloatProgressModel",
     "state": {
      "_dom_classes": [],
      "_model_module": "@jupyter-widgets/controls",
      "_model_module_version": "1.5.0",
      "_model_name": "FloatProgressModel",
      "_view_count": null,
      "_view_module": "@jupyter-widgets/controls",
      "_view_module_version": "1.5.0",
      "_view_name": "ProgressView",
      "bar_style": "success",
      "description": "Downloading: 100%",
      "description_tooltip": null,
      "layout": "IPY_MODEL_7814a899eb544a23bbfd3f0126a31f6d",
      "max": 466062,
      "min": 0,
      "orientation": "horizontal",
      "style": "IPY_MODEL_05150bce9ac94532bcde8da984e1746b",
      "value": 466062
     }
    },
    "a734a2c864654e179e55050a492f7785": {
     "model_module": "@jupyter-widgets/controls",
     "model_name": "FloatProgressModel",
     "state": {
      "_dom_classes": [],
      "_model_module": "@jupyter-widgets/controls",
      "_model_module_version": "1.5.0",
      "_model_name": "FloatProgressModel",
      "_view_count": null,
      "_view_module": "@jupyter-widgets/controls",
      "_view_module_version": "1.5.0",
      "_view_name": "ProgressView",
      "bar_style": "success",
      "description": "Downloading: 100%",
      "description_tooltip": null,
      "layout": "IPY_MODEL_fb05fa1fb989457eb101245843df22a5",
      "max": 231508,
      "min": 0,
      "orientation": "horizontal",
      "style": "IPY_MODEL_7ab1a0321fcb4859886c4fd06e00a005",
      "value": 231508
     }
    },
    "b48d0920cf34456881406a34a6dec362": {
     "model_module": "@jupyter-widgets/controls",
     "model_name": "HTMLModel",
     "state": {
      "_dom_classes": [],
      "_model_module": "@jupyter-widgets/controls",
      "_model_module_version": "1.5.0",
      "_model_name": "HTMLModel",
      "_view_count": null,
      "_view_module": "@jupyter-widgets/controls",
      "_view_module_version": "1.5.0",
      "_view_name": "HTMLView",
      "description": "",
      "description_tooltip": null,
      "layout": "IPY_MODEL_1edce6b8e03042109ef3b776df7fc2f6",
      "placeholder": "​",
      "style": "IPY_MODEL_3894e1e1ebb94137bff72179cf7a21c0",
      "value": " 232k/232k [00:00&lt;00:00, 1.79MB/s]"
     }
    },
    "bd723c11dadc4754bc3f7668136cf980": {
     "model_module": "@jupyter-widgets/controls",
     "model_name": "HTMLModel",
     "state": {
      "_dom_classes": [],
      "_model_module": "@jupyter-widgets/controls",
      "_model_module_version": "1.5.0",
      "_model_name": "HTMLModel",
      "_view_count": null,
      "_view_module": "@jupyter-widgets/controls",
      "_view_module_version": "1.5.0",
      "_view_name": "HTMLView",
      "description": "",
      "description_tooltip": null,
      "layout": "IPY_MODEL_dcfda3178fc94ad1a56d67851126b0e3",
      "placeholder": "​",
      "style": "IPY_MODEL_8059ddf432254b67a89d903d459006d3",
      "value": " 442/442 [00:00&lt;00:00, 1.51kB/s]"
     }
    },
    "bdcafe24015745689f60e073aee709d7": {
     "model_module": "@jupyter-widgets/controls",
     "model_name": "DescriptionStyleModel",
     "state": {
      "_model_module": "@jupyter-widgets/controls",
      "_model_module_version": "1.5.0",
      "_model_name": "DescriptionStyleModel",
      "_view_count": null,
      "_view_module": "@jupyter-widgets/base",
      "_view_module_version": "1.2.0",
      "_view_name": "StyleView",
      "description_width": ""
     }
    },
    "c147daeab8f343bd86eab4c0df44bae4": {
     "model_module": "@jupyter-widgets/controls",
     "model_name": "DescriptionStyleModel",
     "state": {
      "_model_module": "@jupyter-widgets/controls",
      "_model_module_version": "1.5.0",
      "_model_name": "DescriptionStyleModel",
      "_view_count": null,
      "_view_module": "@jupyter-widgets/base",
      "_view_module_version": "1.2.0",
      "_view_name": "StyleView",
      "description_width": ""
     }
    },
    "dcfda3178fc94ad1a56d67851126b0e3": {
     "model_module": "@jupyter-widgets/base",
     "model_name": "LayoutModel",
     "state": {
      "_model_module": "@jupyter-widgets/base",
      "_model_module_version": "1.2.0",
      "_model_name": "LayoutModel",
      "_view_count": null,
      "_view_module": "@jupyter-widgets/base",
      "_view_module_version": "1.2.0",
      "_view_name": "LayoutView",
      "align_content": null,
      "align_items": null,
      "align_self": null,
      "border": null,
      "bottom": null,
      "display": null,
      "flex": null,
      "flex_flow": null,
      "grid_area": null,
      "grid_auto_columns": null,
      "grid_auto_flow": null,
      "grid_auto_rows": null,
      "grid_column": null,
      "grid_gap": null,
      "grid_row": null,
      "grid_template_areas": null,
      "grid_template_columns": null,
      "grid_template_rows": null,
      "height": null,
      "justify_content": null,
      "justify_items": null,
      "left": null,
      "margin": null,
      "max_height": null,
      "max_width": null,
      "min_height": null,
      "min_width": null,
      "object_fit": null,
      "object_position": null,
      "order": null,
      "overflow": null,
      "overflow_x": null,
      "overflow_y": null,
      "padding": null,
      "right": null,
      "top": null,
      "visibility": null,
      "width": null
     }
    },
    "e2ab3d1488594f3c8919805d417920e1": {
     "model_module": "@jupyter-widgets/base",
     "model_name": "LayoutModel",
     "state": {
      "_model_module": "@jupyter-widgets/base",
      "_model_module_version": "1.2.0",
      "_model_name": "LayoutModel",
      "_view_count": null,
      "_view_module": "@jupyter-widgets/base",
      "_view_module_version": "1.2.0",
      "_view_name": "LayoutView",
      "align_content": null,
      "align_items": null,
      "align_self": null,
      "border": null,
      "bottom": null,
      "display": null,
      "flex": null,
      "flex_flow": null,
      "grid_area": null,
      "grid_auto_columns": null,
      "grid_auto_flow": null,
      "grid_auto_rows": null,
      "grid_column": null,
      "grid_gap": null,
      "grid_row": null,
      "grid_template_areas": null,
      "grid_template_columns": null,
      "grid_template_rows": null,
      "height": null,
      "justify_content": null,
      "justify_items": null,
      "left": null,
      "margin": null,
      "max_height": null,
      "max_width": null,
      "min_height": null,
      "min_width": null,
      "object_fit": null,
      "object_position": null,
      "order": null,
      "overflow": null,
      "overflow_x": null,
      "overflow_y": null,
      "padding": null,
      "right": null,
      "top": null,
      "visibility": null,
      "width": null
     }
    },
    "e478241356d8467d998e4880301f1647": {
     "model_module": "@jupyter-widgets/base",
     "model_name": "LayoutModel",
     "state": {
      "_model_module": "@jupyter-widgets/base",
      "_model_module_version": "1.2.0",
      "_model_name": "LayoutModel",
      "_view_count": null,
      "_view_module": "@jupyter-widgets/base",
      "_view_module_version": "1.2.0",
      "_view_name": "LayoutView",
      "align_content": null,
      "align_items": null,
      "align_self": null,
      "border": null,
      "bottom": null,
      "display": null,
      "flex": null,
      "flex_flow": null,
      "grid_area": null,
      "grid_auto_columns": null,
      "grid_auto_flow": null,
      "grid_auto_rows": null,
      "grid_column": null,
      "grid_gap": null,
      "grid_row": null,
      "grid_template_areas": null,
      "grid_template_columns": null,
      "grid_template_rows": null,
      "height": null,
      "justify_content": null,
      "justify_items": null,
      "left": null,
      "margin": null,
      "max_height": null,
      "max_width": null,
      "min_height": null,
      "min_width": null,
      "object_fit": null,
      "object_position": null,
      "order": null,
      "overflow": null,
      "overflow_x": null,
      "overflow_y": null,
      "padding": null,
      "right": null,
      "top": null,
      "visibility": null,
      "width": null
     }
    },
    "f05eaf1255ca4ed7ac022b69335ab493": {
     "model_module": "@jupyter-widgets/base",
     "model_name": "LayoutModel",
     "state": {
      "_model_module": "@jupyter-widgets/base",
      "_model_module_version": "1.2.0",
      "_model_name": "LayoutModel",
      "_view_count": null,
      "_view_module": "@jupyter-widgets/base",
      "_view_module_version": "1.2.0",
      "_view_name": "LayoutView",
      "align_content": null,
      "align_items": null,
      "align_self": null,
      "border": null,
      "bottom": null,
      "display": null,
      "flex": null,
      "flex_flow": null,
      "grid_area": null,
      "grid_auto_columns": null,
      "grid_auto_flow": null,
      "grid_auto_rows": null,
      "grid_column": null,
      "grid_gap": null,
      "grid_row": null,
      "grid_template_areas": null,
      "grid_template_columns": null,
      "grid_template_rows": null,
      "height": null,
      "justify_content": null,
      "justify_items": null,
      "left": null,
      "margin": null,
      "max_height": null,
      "max_width": null,
      "min_height": null,
      "min_width": null,
      "object_fit": null,
      "object_position": null,
      "order": null,
      "overflow": null,
      "overflow_x": null,
      "overflow_y": null,
      "padding": null,
      "right": null,
      "top": null,
      "visibility": null,
      "width": null
     }
    },
    "f4e93d0edb6c4b1a8fb0ab436c98d07f": {
     "model_module": "@jupyter-widgets/controls",
     "model_name": "HTMLModel",
     "state": {
      "_dom_classes": [],
      "_model_module": "@jupyter-widgets/controls",
      "_model_module_version": "1.5.0",
      "_model_name": "HTMLModel",
      "_view_count": null,
      "_view_module": "@jupyter-widgets/controls",
      "_view_module_version": "1.5.0",
      "_view_name": "HTMLView",
      "description": "",
      "description_tooltip": null,
      "layout": "IPY_MODEL_49e524bf175b47c999002443f778922b",
      "placeholder": "​",
      "style": "IPY_MODEL_bdcafe24015745689f60e073aee709d7",
      "value": " 466k/466k [00:00&lt;00:00, 5.61MB/s]"
     }
    },
    "f77ca790221546b28e6110f2f57f39cf": {
     "model_module": "@jupyter-widgets/base",
     "model_name": "LayoutModel",
     "state": {
      "_model_module": "@jupyter-widgets/base",
      "_model_module_version": "1.2.0",
      "_model_name": "LayoutModel",
      "_view_count": null,
      "_view_module": "@jupyter-widgets/base",
      "_view_module_version": "1.2.0",
      "_view_name": "LayoutView",
      "align_content": null,
      "align_items": null,
      "align_self": null,
      "border": null,
      "bottom": null,
      "display": null,
      "flex": null,
      "flex_flow": null,
      "grid_area": null,
      "grid_auto_columns": null,
      "grid_auto_flow": null,
      "grid_auto_rows": null,
      "grid_column": null,
      "grid_gap": null,
      "grid_row": null,
      "grid_template_areas": null,
      "grid_template_columns": null,
      "grid_template_rows": null,
      "height": null,
      "justify_content": null,
      "justify_items": null,
      "left": null,
      "margin": null,
      "max_height": null,
      "max_width": null,
      "min_height": null,
      "min_width": null,
      "object_fit": null,
      "object_position": null,
      "order": null,
      "overflow": null,
      "overflow_x": null,
      "overflow_y": null,
      "padding": null,
      "right": null,
      "top": null,
      "visibility": null,
      "width": null
     }
    },
    "fb05fa1fb989457eb101245843df22a5": {
     "model_module": "@jupyter-widgets/base",
     "model_name": "LayoutModel",
     "state": {
      "_model_module": "@jupyter-widgets/base",
      "_model_module_version": "1.2.0",
      "_model_name": "LayoutModel",
      "_view_count": null,
      "_view_module": "@jupyter-widgets/base",
      "_view_module_version": "1.2.0",
      "_view_name": "LayoutView",
      "align_content": null,
      "align_items": null,
      "align_self": null,
      "border": null,
      "bottom": null,
      "display": null,
      "flex": null,
      "flex_flow": null,
      "grid_area": null,
      "grid_auto_columns": null,
      "grid_auto_flow": null,
      "grid_auto_rows": null,
      "grid_column": null,
      "grid_gap": null,
      "grid_row": null,
      "grid_template_areas": null,
      "grid_template_columns": null,
      "grid_template_rows": null,
      "height": null,
      "justify_content": null,
      "justify_items": null,
      "left": null,
      "margin": null,
      "max_height": null,
      "max_width": null,
      "min_height": null,
      "min_width": null,
      "object_fit": null,
      "object_position": null,
      "order": null,
      "overflow": null,
      "overflow_x": null,
      "overflow_y": null,
      "padding": null,
      "right": null,
      "top": null,
      "visibility": null,
      "width": null
     }
    },
    "fe6baf720191438da17891486e3d15fa": {
     "model_module": "@jupyter-widgets/base",
     "model_name": "LayoutModel",
     "state": {
      "_model_module": "@jupyter-widgets/base",
      "_model_module_version": "1.2.0",
      "_model_name": "LayoutModel",
      "_view_count": null,
      "_view_module": "@jupyter-widgets/base",
      "_view_module_version": "1.2.0",
      "_view_name": "LayoutView",
      "align_content": null,
      "align_items": null,
      "align_self": null,
      "border": null,
      "bottom": null,
      "display": null,
      "flex": null,
      "flex_flow": null,
      "grid_area": null,
      "grid_auto_columns": null,
      "grid_auto_flow": null,
      "grid_auto_rows": null,
      "grid_column": null,
      "grid_gap": null,
      "grid_row": null,
      "grid_template_areas": null,
      "grid_template_columns": null,
      "grid_template_rows": null,
      "height": null,
      "justify_content": null,
      "justify_items": null,
      "left": null,
      "margin": null,
      "max_height": null,
      "max_width": null,
      "min_height": null,
      "min_width": null,
      "object_fit": null,
      "object_position": null,
      "order": null,
      "overflow": null,
      "overflow_x": null,
      "overflow_y": null,
      "padding": null,
      "right": null,
      "top": null,
      "visibility": null,
      "width": null
     }
    }
   }
  }
 },
 "nbformat": 4,
 "nbformat_minor": 4
}
